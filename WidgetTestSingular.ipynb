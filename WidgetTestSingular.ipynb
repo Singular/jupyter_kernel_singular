{
 "cells": [
  {
   "cell_type": "markdown",
   "metadata": {},
   "source": [
    "# Widget test for Singular\n",
    "\n",
    "This notebook uses the Singular kernel for Jupyter and demonstrates the use of widgets in the Singular kernel.\n",
    "\n",
    "Executing the cell below will create two input fields, for entering variables for a ring\n",
    "and polynomial generators in those variables for an ideal. Pressing the button will cause Singular to compute\n",
    "the standard basis of that ideal, using the `std` command."
   ]
  },
  {
   "cell_type": "code",
   "execution_count": 1,
   "metadata": {
    "collapsed": false
   },
   "outputs": [],
   "source": [
    "@python\n",
    "from __future__ import print_function\n",
    "from ipywidgets import interact, interactive, fixed\n",
    "import ipywidgets as widgets\n",
    "from IPython.display import display, clear_output\n",
    "header_vars = widgets.Label(\"Enter variables:\")\n",
    "vars = widgets.Text()\n",
    "header_polys = widgets.Label(\"Enter polynomials:\")\n",
    "polys = widgets.Text()\n",
    "submit_button = widgets.Button(description=\"Standard basis\")\n",
    "\n",
    "def compute_basis_of_vars(button):\n",
    "    kernel = get_ipython().kernel\n",
    "    global vars, polys\n",
    "    RunSingularCommand( \"ring r = 0,(\" + vars.value + \"),dp;\" )\n",
    "    RunSingularCommand(\"ideal I = ( \" + polys.value + \" );\")\n",
    "    output = RunSingularCommand( \"std(I);\" )[1]\n",
    "    stream_content = { 'wait': False }\n",
    "    kernel.send_response( kernel.iopub_socket, 'clear_output', stream_content )\n",
    "    stream_content = { 'data': { 'text/plain' : \"Standard basis:\\n\" + output } }\n",
    "    kernel.send_response( kernel.iopub_socket, 'display_data', stream_content )\n",
    "\n",
    "    \n",
    "submit_button.on_click(compute_basis_of_vars)\n",
    "\n",
    "display(header_vars,vars,header_polys,polys,submit_button)"
   ]
  },
  {
   "cell_type": "code",
   "execution_count": null,
   "metadata": {
    "collapsed": true
   },
   "outputs": [],
   "source": []
  }
 ],
 "metadata": {
  "kernelspec": {
   "display_name": "Singular",
   "language": "singular",
   "name": "singular"
  },
  "language_info": {
   "codemirror_mode": "singular",
   "file_extension": ".singular",
   "mimetype": "text/x-singular",
   "name": "Singular"
  },
  "widgets": {
   "state": {
    "003b3a34d0bb4e22bb77fc9cd21251b7": {
     "views": []
    },
    "086f2b08b5024bb0aedc5a24c5a238c6": {
     "views": []
    },
    "09049b2674284e1cb59fc533465ca6c6": {
     "views": []
    },
    "09cc20ef6cf14ec4be888997840fda17": {
     "views": []
    },
    "0c96c0ce182946bda5c453a2b57e0302": {
     "views": []
    },
    "0e94d9e1411a41e89f82e52c1a7ced40": {
     "views": []
    },
    "17ffb926edf0414c893dee51c78a9d91": {
     "views": [
      {
       "cell_index": 1
      }
     ]
    },
    "200f90bbcd924ed3acaec100318a71ce": {
     "views": []
    },
    "26a8ef255ee9410b90aff282e5bf4e55": {
     "views": [
      {
       "cell_index": 1
      }
     ]
    },
    "2a33cfffa79747b085c3e58a58624b9d": {
     "views": []
    },
    "2af412290acf4975ab6363cb24111750": {
     "views": []
    },
    "36d710ef4b974d3fbe8e69307fe2bb41": {
     "views": [
      {
       "cell_index": 0
      }
     ]
    },
    "443b3bc582b441b4aab7fe032585d182": {
     "views": []
    },
    "452c8821731245b6b8b3d49b96f14ce6": {
     "views": []
    },
    "4c2bc5b4039f428aa6a7226e897d6d0c": {
     "views": []
    },
    "541601b5b6c1465da5fc678cec5c7721": {
     "views": []
    },
    "55613e78d4ac492f9a5132ed81e08de9": {
     "views": []
    },
    "55f0e44639aa49bc81bf43ae1e53de6b": {
     "views": []
    },
    "58d04b45ab4f4665b6608f857593ff5a": {
     "views": [
      {
       "cell_index": 1
      }
     ]
    },
    "5b2b9d342d0540bb82d18bf6d816a99c": {
     "views": [
      {
       "cell_index": 1
      }
     ]
    },
    "62445858b3684841b341b1c7efe2b670": {
     "views": [
      {
       "cell_index": 0
      }
     ]
    },
    "643507cb986b4998aa343d8d8f173225": {
     "views": []
    },
    "71c5c57e567242088bb44378080171b8": {
     "views": [
      {
       "cell_index": 1
      }
     ]
    },
    "75350cfa2a9f40adb19db9dab67df185": {
     "views": []
    },
    "7ce5bb4ca150424f8c547ef4db382c86": {
     "views": []
    },
    "81e32b1a4b1848c2aef0dbd0ad76798b": {
     "views": []
    },
    "8d48f5105e664eb7a91ecb50efeb7575": {
     "views": []
    },
    "9ae1dda82f9544ecb4383f2cc212876c": {
     "views": [
      {
       "cell_index": 1
      }
     ]
    },
    "9c332ed4cb944fecb042941c69ac2277": {
     "views": []
    },
    "9c73d2aae3ac46d18359e591bab57050": {
     "views": []
    },
    "a5e8521c42914dcd9850121a5a4039f9": {
     "views": []
    },
    "a6db5abbc7b649f896671e52409d688e": {
     "views": [
      {
       "cell_index": 1
      }
     ]
    },
    "ad20ffc1c64643eba7ba7c1cb0ee26b6": {
     "views": []
    },
    "bb733f7a8dd343af8ea73ae1cfc01915": {
     "views": []
    },
    "ca17364398aa4fc29862590c14f6d507": {
     "views": []
    },
    "d0256797c51f43caa9ca1aa5c27c9427": {
     "views": [
      {
       "cell_index": 0
      }
     ]
    },
    "d105ebd820854be18f8692b9559a0e14": {
     "views": []
    },
    "decfb1ccc7be473f84d3cd0990a9f842": {
     "views": []
    },
    "fae90080e4e54f11827903641b5effd2": {
     "views": [
      {
       "cell_index": 0
      }
     ]
    },
    "ff4c9ba4caa2429db61126ab3d408808": {
     "views": []
    }
   },
   "version": "1.1.1"
  }
 },
 "nbformat": 4,
 "nbformat_minor": 0
}
