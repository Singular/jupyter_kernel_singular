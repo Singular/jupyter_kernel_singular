{
 "cells": [
  {
   "cell_type": "code",
   "execution_count": 2,
   "metadata": {
    "collapsed": false
   },
   "outputs": [],
   "source": [
    "ring r;"
   ]
  },
  {
   "cell_type": "code",
   "execution_count": 3,
   "metadata": {
    "collapsed": false
   },
   "outputs": [],
   "source": [
    "@python\n",
    "import ipywidgets as widgets\n",
    "from IPython.display import display\n",
    "out = widgets.Output()\n",
    "before_text = widgets.Output()\n",
    "text = widgets.Text()\n",
    "\n",
    "def produce_groebner_basis(text):\n",
    "    global out\n",
    "    out.clear_output()\n",
    "    input_text = text.value\n",
    "    RunSingularCommand( \"ideal I = (\" + input_text + \");\" )\n",
    "    basis = RunSingularCommand( \"std( I );\" )[1]\n",
    "    with out:\n",
    "        print( \"Groebner basis of \" + input_text + \"\\n\" )\n",
    "        print( basis )\n",
    "text.on_submit(produce_groebner_basis)\n",
    "display(before_text,text,out)\n",
    "with before_text:\n",
    "    print(\"Insert ideal in x,y,z\")"
   ]
  },
  {
   "cell_type": "code",
   "execution_count": null,
   "metadata": {
    "collapsed": true
   },
   "outputs": [],
   "source": []
  }
 ],
 "metadata": {
  "kernelspec": {
   "display_name": "Singular",
   "language": "singular",
   "name": "singular"
  },
  "language_info": {
   "codemirror_mode": "singular",
   "file_extension": ".singular",
   "mimetype": "text/x-singular",
   "name": "Singular"
  }
 },
 "nbformat": 4,
 "nbformat_minor": 0
}
