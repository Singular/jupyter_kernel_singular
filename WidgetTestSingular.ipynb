{
 "cells": [
  {
   "cell_type": "code",
   "execution_count": 6,
   "metadata": {
    "collapsed": false
   },
   "outputs": [
    {
     "data": {
      "text/plain": [
       "Groebner basis is:\n",
       "_[1]=a\n",
       "_[2]=y\n",
       "_[3]=x2\n"
      ]
     },
     "metadata": {},
     "output_type": "display_data"
    }
   ],
   "source": [
    "@python\n",
    "from __future__ import print_function\n",
    "from ipywidgets import interact, interactive, fixed\n",
    "import ipywidgets as widgets\n",
    "from IPython.display import display, clear_output\n",
    "header_vars = widgets.Label(\"Enter variables:\")\n",
    "vars = widgets.Text()\n",
    "header_polys = widgets.Label(\"Enter polynomials:\")\n",
    "polys = widgets.Text()\n",
    "submit_button = widgets.Button(description=\"Compute groebner basis\")\n",
    "\n",
    "def compute_basis_of_vars(button):\n",
    "    kernel = get_ipython().kernel\n",
    "    global vars, polys\n",
    "    RunSingularCommand( \"ring r = 0,(\" + vars.value + \"),dp;\" )\n",
    "    RunSingularCommand(\"ideal I = ( \" + polys.value + \" );\")\n",
    "    output = RunSingularCommand( \"std(I);\" )[1]\n",
    "    stream_content = { 'wait': False }\n",
    "    kernel.send_response( kernel.iopub_socket, 'clear_output', stream_content )\n",
    "    stream_content = { 'data': { 'text/plain' : \"Groebner basis is:\\n\" + output } }\n",
    "    kernel.send_response( kernel.iopub_socket, 'display_data', stream_content )\n",
    "\n",
    "    \n",
    "submit_button.on_click(compute_basis_of_vars)\n",
    "\n",
    "display(header_vars,vars,header_polys,polys,submit_button)"
   ]
  }
 ],
 "metadata": {
  "kernelspec": {
   "display_name": "Singular",
   "language": "singular",
   "name": "singular"
  },
  "language_info": {
   "codemirror_mode": "singular",
   "file_extension": ".singular",
   "mimetype": "text/x-singular",
   "name": "Singular"
  },
  "widgets": {
   "state": {
    "03db6c9fa18f48488349d2ef0731964b": {
     "views": []
    },
    "09dec889f825489098c4b0ed62d8afd1": {
     "views": [
      {
       "cell": {
        "cell_type": "code",
        "execution_count": 6,
        "metadata": {
         "collapsed": false,
         "trusted": true
        },
        "outputs": [
         {
          "data": {
           "text/plain": "Groebner basis is:\n_[1]=a\n_[2]=y\n_[3]=x2\n"
          },
          "metadata": {},
          "output_type": "display_data"
         }
        ],
        "source": "@python\nfrom __future__ import print_function\nfrom ipywidgets import interact, interactive, fixed\nimport ipywidgets as widgets\nfrom IPython.display import display, clear_output\nheader_vars = widgets.Label(\"Enter variables:\")\nvars = widgets.Text()\nheader_polys = widgets.Label(\"Enter polynomials:\")\npolys = widgets.Text()\nsubmit_button = widgets.Button(description=\"Compute groebner basis\")\n\ndef compute_basis_of_vars(button):\n    kernel = get_ipython().kernel\n    global vars, polys\n    RunSingularCommand( \"ring r = 0,(\" + vars.value + \"),dp;\" )\n    RunSingularCommand(\"ideal I = ( \" + polys.value + \" );\")\n    output = RunSingularCommand( \"std(I);\" )[1]\n    stream_content = { 'wait': False }\n    kernel.send_response( kernel.iopub_socket, 'clear_output', stream_content )\n    stream_content = { 'data': { 'text/plain' : \"Groebner basis is:\\n\" + output } }\n    kernel.send_response( kernel.iopub_socket, 'display_data', stream_content )\n\n    \nsubmit_button.on_click(compute_basis_of_vars)\n\ndisplay(header_vars,vars,header_polys,polys,submit_button)"
       },
       "cell_index": 1,
       "root": true
      }
     ]
    },
    "0ae70b53741a472eb7e45ff2c8dd8523": {
     "views": []
    },
    "0d147f012aa646848e03ed582d18fdc0": {
     "views": []
    },
    "0ec7cc4782b1482b97c8465b2ab16b2e": {
     "views": []
    },
    "0ede44a350094b5b88a1ff274d1c961b": {
     "views": []
    },
    "1ba4459a576e41eaad18a80d8391b077": {
     "views": []
    },
    "22cefbbd5e194252931f6ce303846619": {
     "views": []
    },
    "2d5abfb387a44bf5aaaceb36724996fe": {
     "views": []
    },
    "33be3b20fa5743ea9483e72a4ef7f410": {
     "views": []
    },
    "3934bf7ee68941b0915f28b700225b67": {
     "views": []
    },
    "4e0d5476bcce44359c39c07d40af8b18": {
     "views": []
    },
    "4e98908f5f9c4994a556b8a54d0e7537": {
     "views": []
    },
    "5a89172c9c0d4a608a0418e16b072fc6": {
     "views": []
    },
    "5b1487fbae9d4757a4ae50089996cf62": {
     "views": [
      {
       "cell": {
        "cell_type": "code",
        "execution_count": 6,
        "metadata": {
         "collapsed": false,
         "trusted": true
        },
        "outputs": [
         {
          "data": {
           "text/plain": "Groebner basis is:\n_[1]=a\n_[2]=y\n_[3]=x2\n"
          },
          "metadata": {},
          "output_type": "display_data"
         }
        ],
        "source": "@python\nfrom __future__ import print_function\nfrom ipywidgets import interact, interactive, fixed\nimport ipywidgets as widgets\nfrom IPython.display import display, clear_output\nheader_vars = widgets.Label(\"Enter variables:\")\nvars = widgets.Text()\nheader_polys = widgets.Label(\"Enter polynomials:\")\npolys = widgets.Text()\nsubmit_button = widgets.Button(description=\"Compute groebner basis\")\n\ndef compute_basis_of_vars(button):\n    kernel = get_ipython().kernel\n    global vars, polys\n    RunSingularCommand( \"ring r = 0,(\" + vars.value + \"),dp;\" )\n    RunSingularCommand(\"ideal I = ( \" + polys.value + \" );\")\n    output = RunSingularCommand( \"std(I);\" )[1]\n    stream_content = { 'wait': False }\n    kernel.send_response( kernel.iopub_socket, 'clear_output', stream_content )\n    stream_content = { 'data': { 'text/plain' : \"Groebner basis is:\\n\" + output } }\n    kernel.send_response( kernel.iopub_socket, 'display_data', stream_content )\n\n    \nsubmit_button.on_click(compute_basis_of_vars)\n\ndisplay(header_vars,vars,header_polys,polys,submit_button)"
       },
       "cell_index": 1,
       "root": true
      }
     ]
    },
    "5b2b01cda9074869b5b0599ee64ee6c2": {
     "views": []
    },
    "5dc6a6eb55e04462bb17643fd7c9d741": {
     "views": []
    },
    "65e77f2884454de4b6a3d51028a015bf": {
     "views": []
    },
    "6e31ba8b3154410e86753cbff0b8ecfa": {
     "views": []
    },
    "7317d509d6d349b1bc1ae824c452426f": {
     "views": [
      {
       "cell": {
        "cell_type": "code",
        "execution_count": 6,
        "metadata": {
         "collapsed": false,
         "trusted": true
        },
        "outputs": [
         {
          "data": {
           "text/plain": "Groebner basis is:\n_[1]=a\n_[2]=y\n_[3]=x2\n"
          },
          "metadata": {},
          "output_type": "display_data"
         }
        ],
        "source": "@python\nfrom __future__ import print_function\nfrom ipywidgets import interact, interactive, fixed\nimport ipywidgets as widgets\nfrom IPython.display import display, clear_output\nheader_vars = widgets.Label(\"Enter variables:\")\nvars = widgets.Text()\nheader_polys = widgets.Label(\"Enter polynomials:\")\npolys = widgets.Text()\nsubmit_button = widgets.Button(description=\"Compute groebner basis\")\n\ndef compute_basis_of_vars(button):\n    kernel = get_ipython().kernel\n    global vars, polys\n    RunSingularCommand( \"ring r = 0,(\" + vars.value + \"),dp;\" )\n    RunSingularCommand(\"ideal I = ( \" + polys.value + \" );\")\n    output = RunSingularCommand( \"std(I);\" )[1]\n    stream_content = { 'wait': False }\n    kernel.send_response( kernel.iopub_socket, 'clear_output', stream_content )\n    stream_content = { 'data': { 'text/plain' : \"Groebner basis is:\\n\" + output } }\n    kernel.send_response( kernel.iopub_socket, 'display_data', stream_content )\n\n    \nsubmit_button.on_click(compute_basis_of_vars)\n\ndisplay(header_vars,vars,header_polys,polys,submit_button)"
       },
       "cell_index": 1,
       "root": true
      }
     ]
    },
    "7c53b927291c442492d0ce63f979aebc": {
     "views": [
      {
       "cell": {
        "cell_type": "code",
        "execution_count": 6,
        "metadata": {
         "collapsed": false,
         "trusted": true
        },
        "outputs": [
         {
          "data": {
           "text/plain": "Groebner basis is:\n_[1]=a\n_[2]=y\n_[3]=x2\n"
          },
          "metadata": {},
          "output_type": "display_data"
         }
        ],
        "source": "@python\nfrom __future__ import print_function\nfrom ipywidgets import interact, interactive, fixed\nimport ipywidgets as widgets\nfrom IPython.display import display, clear_output\nheader_vars = widgets.Label(\"Enter variables:\")\nvars = widgets.Text()\nheader_polys = widgets.Label(\"Enter polynomials:\")\npolys = widgets.Text()\nsubmit_button = widgets.Button(description=\"Compute groebner basis\")\n\ndef compute_basis_of_vars(button):\n    kernel = get_ipython().kernel\n    global vars, polys\n    RunSingularCommand( \"ring r = 0,(\" + vars.value + \"),dp;\" )\n    RunSingularCommand(\"ideal I = ( \" + polys.value + \" );\")\n    output = RunSingularCommand( \"std(I);\" )[1]\n    stream_content = { 'wait': False }\n    kernel.send_response( kernel.iopub_socket, 'clear_output', stream_content )\n    stream_content = { 'data': { 'text/plain' : \"Groebner basis is:\\n\" + output } }\n    kernel.send_response( kernel.iopub_socket, 'display_data', stream_content )\n\n    \nsubmit_button.on_click(compute_basis_of_vars)\n\ndisplay(header_vars,vars,header_polys,polys,submit_button)"
       },
       "cell_index": 1,
       "root": true
      }
     ]
    },
    "7ff4218ee0e54ed4a8b1327fa9b1e414": {
     "views": []
    },
    "9201a9b04f4d485f8ff15113a2eb382e": {
     "views": []
    },
    "969afc11441542b6a4b24652f86182cf": {
     "views": [
      {
       "cell": {
        "cell_type": "code",
        "execution_count": 6,
        "metadata": {
         "collapsed": false,
         "trusted": true
        },
        "outputs": [
         {
          "data": {
           "text/plain": "Groebner basis is:\n_[1]=a\n_[2]=y\n_[3]=x2\n"
          },
          "metadata": {},
          "output_type": "display_data"
         }
        ],
        "source": "@python\nfrom __future__ import print_function\nfrom ipywidgets import interact, interactive, fixed\nimport ipywidgets as widgets\nfrom IPython.display import display, clear_output\nheader_vars = widgets.Label(\"Enter variables:\")\nvars = widgets.Text()\nheader_polys = widgets.Label(\"Enter polynomials:\")\npolys = widgets.Text()\nsubmit_button = widgets.Button(description=\"Compute groebner basis\")\n\ndef compute_basis_of_vars(button):\n    kernel = get_ipython().kernel\n    global vars, polys\n    RunSingularCommand( \"ring r = 0,(\" + vars.value + \"),dp;\" )\n    RunSingularCommand(\"ideal I = ( \" + polys.value + \" );\")\n    output = RunSingularCommand( \"std(I);\" )[1]\n    stream_content = { 'wait': False }\n    kernel.send_response( kernel.iopub_socket, 'clear_output', stream_content )\n    stream_content = { 'data': { 'text/plain' : \"Groebner basis is:\\n\" + output } }\n    kernel.send_response( kernel.iopub_socket, 'display_data', stream_content )\n\n    \nsubmit_button.on_click(compute_basis_of_vars)\n\ndisplay(header_vars,vars,header_polys,polys,submit_button)"
       },
       "cell_index": 1,
       "root": true
      }
     ]
    },
    "995d9c8819c14567a3c8cc06aad48cb1": {
     "views": []
    },
    "9b8729bcb25546b3b4a84feaefd2a3b1": {
     "views": []
    },
    "9fd1e1e9d5044ac78a6cb701a7bc89cb": {
     "views": []
    },
    "a04e028a6098461ca2741feaa1bd7a32": {
     "views": []
    },
    "a937076e4cc345b49ba4aa9122f83cb0": {
     "views": [
      {
       "cell": {
        "cell_type": "code",
        "execution_count": 6,
        "metadata": {
         "collapsed": false,
         "trusted": true
        },
        "outputs": [
         {
          "data": {
           "text/plain": "Groebner basis is:\n_[1]=a\n_[2]=y\n_[3]=x2\n"
          },
          "metadata": {},
          "output_type": "display_data"
         }
        ],
        "source": "@python\nfrom __future__ import print_function\nfrom ipywidgets import interact, interactive, fixed\nimport ipywidgets as widgets\nfrom IPython.display import display, clear_output\nheader_vars = widgets.Label(\"Enter variables:\")\nvars = widgets.Text()\nheader_polys = widgets.Label(\"Enter polynomials:\")\npolys = widgets.Text()\nsubmit_button = widgets.Button(description=\"Compute groebner basis\")\n\ndef compute_basis_of_vars(button):\n    kernel = get_ipython().kernel\n    global vars, polys\n    RunSingularCommand( \"ring r = 0,(\" + vars.value + \"),dp;\" )\n    RunSingularCommand(\"ideal I = ( \" + polys.value + \" );\")\n    output = RunSingularCommand( \"std(I);\" )[1]\n    stream_content = { 'wait': False }\n    kernel.send_response( kernel.iopub_socket, 'clear_output', stream_content )\n    stream_content = { 'data': { 'text/plain' : \"Groebner basis is:\\n\" + output } }\n    kernel.send_response( kernel.iopub_socket, 'display_data', stream_content )\n\n    \nsubmit_button.on_click(compute_basis_of_vars)\n\ndisplay(header_vars,vars,header_polys,polys,submit_button)"
       },
       "cell_index": 1,
       "root": true
      }
     ]
    },
    "b07eff4639fc48b7bb46155db2a48261": {
     "views": []
    },
    "b226bcdcf6334999b5121c4b01d0e217": {
     "views": []
    },
    "b27e96e020704c5b9793ed6acdfd729f": {
     "views": []
    },
    "b75fbe1f7ddd474d8a666a69c8256c42": {
     "views": []
    },
    "ba2939f4c8484d30a18d8761dd30de04": {
     "views": []
    },
    "bc8c43224cf142ac8ceeb50a16620d80": {
     "views": []
    },
    "bd82b6460717435297bc924daa00835f": {
     "views": []
    },
    "c4574ce2d9cc4000a097888a0d41883d": {
     "views": []
    },
    "d176d9dd84f0447a90f589270b7d3569": {
     "views": [
      {
       "cell": {
        "cell_type": "code",
        "execution_count": 6,
        "metadata": {
         "collapsed": false,
         "trusted": true
        },
        "outputs": [
         {
          "data": {
           "text/plain": "Groebner basis is:\n_[1]=a\n_[2]=y\n_[3]=x2\n"
          },
          "metadata": {},
          "output_type": "display_data"
         }
        ],
        "source": "@python\nfrom __future__ import print_function\nfrom ipywidgets import interact, interactive, fixed\nimport ipywidgets as widgets\nfrom IPython.display import display, clear_output\nheader_vars = widgets.Label(\"Enter variables:\")\nvars = widgets.Text()\nheader_polys = widgets.Label(\"Enter polynomials:\")\npolys = widgets.Text()\nsubmit_button = widgets.Button(description=\"Compute groebner basis\")\n\ndef compute_basis_of_vars(button):\n    kernel = get_ipython().kernel\n    global vars, polys\n    RunSingularCommand( \"ring r = 0,(\" + vars.value + \"),dp;\" )\n    RunSingularCommand(\"ideal I = ( \" + polys.value + \" );\")\n    output = RunSingularCommand( \"std(I);\" )[1]\n    stream_content = { 'wait': False }\n    kernel.send_response( kernel.iopub_socket, 'clear_output', stream_content )\n    stream_content = { 'data': { 'text/plain' : \"Groebner basis is:\\n\" + output } }\n    kernel.send_response( kernel.iopub_socket, 'display_data', stream_content )\n\n    \nsubmit_button.on_click(compute_basis_of_vars)\n\ndisplay(header_vars,vars,header_polys,polys,submit_button)"
       },
       "cell_index": 1,
       "root": true
      }
     ]
    },
    "d72dbdd0fd70496d83530b29bb175838": {
     "views": []
    },
    "d79dd9aff8db44bd86f5f6e4775cc99a": {
     "views": []
    },
    "dd5b39e3ec97475e88602b31e562f80c": {
     "views": []
    },
    "e1a93bf191534580bdfdaea4719cc03c": {
     "views": [
      {
       "cell": {
        "cell_type": "code",
        "execution_count": 6,
        "metadata": {
         "collapsed": false,
         "trusted": true
        },
        "outputs": [
         {
          "data": {
           "text/plain": "Groebner basis is:\n_[1]=a\n_[2]=y\n_[3]=x2\n"
          },
          "metadata": {},
          "output_type": "display_data"
         }
        ],
        "source": "@python\nfrom __future__ import print_function\nfrom ipywidgets import interact, interactive, fixed\nimport ipywidgets as widgets\nfrom IPython.display import display, clear_output\nheader_vars = widgets.Label(\"Enter variables:\")\nvars = widgets.Text()\nheader_polys = widgets.Label(\"Enter polynomials:\")\npolys = widgets.Text()\nsubmit_button = widgets.Button(description=\"Compute groebner basis\")\n\ndef compute_basis_of_vars(button):\n    kernel = get_ipython().kernel\n    global vars, polys\n    RunSingularCommand( \"ring r = 0,(\" + vars.value + \"),dp;\" )\n    RunSingularCommand(\"ideal I = ( \" + polys.value + \" );\")\n    output = RunSingularCommand( \"std(I);\" )[1]\n    stream_content = { 'wait': False }\n    kernel.send_response( kernel.iopub_socket, 'clear_output', stream_content )\n    stream_content = { 'data': { 'text/plain' : \"Groebner basis is:\\n\" + output } }\n    kernel.send_response( kernel.iopub_socket, 'display_data', stream_content )\n\n    \nsubmit_button.on_click(compute_basis_of_vars)\n\ndisplay(header_vars,vars,header_polys,polys,submit_button)"
       },
       "cell_index": 1,
       "root": true
      }
     ]
    },
    "e75a1dac10894bc08c9eae88694681ef": {
     "views": []
    },
    "ebbddf537d5d4c34b76dd666d19d6d4f": {
     "views": []
    },
    "f6967440fecb411ab46c4aefce020041": {
     "views": [
      {
       "cell": {
        "cell_type": "code",
        "execution_count": 6,
        "metadata": {
         "collapsed": false,
         "trusted": true
        },
        "outputs": [
         {
          "data": {
           "text/plain": "Groebner basis is:\n_[1]=a\n_[2]=y\n_[3]=x2\n"
          },
          "metadata": {},
          "output_type": "display_data"
         }
        ],
        "source": "@python\nfrom __future__ import print_function\nfrom ipywidgets import interact, interactive, fixed\nimport ipywidgets as widgets\nfrom IPython.display import display, clear_output\nheader_vars = widgets.Label(\"Enter variables:\")\nvars = widgets.Text()\nheader_polys = widgets.Label(\"Enter polynomials:\")\npolys = widgets.Text()\nsubmit_button = widgets.Button(description=\"Compute groebner basis\")\n\ndef compute_basis_of_vars(button):\n    kernel = get_ipython().kernel\n    global vars, polys\n    RunSingularCommand( \"ring r = 0,(\" + vars.value + \"),dp;\" )\n    RunSingularCommand(\"ideal I = ( \" + polys.value + \" );\")\n    output = RunSingularCommand( \"std(I);\" )[1]\n    stream_content = { 'wait': False }\n    kernel.send_response( kernel.iopub_socket, 'clear_output', stream_content )\n    stream_content = { 'data': { 'text/plain' : \"Groebner basis is:\\n\" + output } }\n    kernel.send_response( kernel.iopub_socket, 'display_data', stream_content )\n\n    \nsubmit_button.on_click(compute_basis_of_vars)\n\ndisplay(header_vars,vars,header_polys,polys,submit_button)"
       },
       "cell_index": 1,
       "root": true
      }
     ]
    },
    "fb0fc3eda15f485a9a53d32639ac4019": {
     "views": []
    },
    "fbe890aa37904ead9ebe1e2b6a42d68b": {
     "views": [
      {
       "cell": {
        "cell_type": "code",
        "execution_count": 6,
        "metadata": {
         "collapsed": false,
         "trusted": true
        },
        "outputs": [
         {
          "data": {
           "text/plain": "Groebner basis is:\n_[1]=a\n_[2]=y\n_[3]=x2\n"
          },
          "metadata": {},
          "output_type": "display_data"
         }
        ],
        "source": "@python\nfrom __future__ import print_function\nfrom ipywidgets import interact, interactive, fixed\nimport ipywidgets as widgets\nfrom IPython.display import display, clear_output\nheader_vars = widgets.Label(\"Enter variables:\")\nvars = widgets.Text()\nheader_polys = widgets.Label(\"Enter polynomials:\")\npolys = widgets.Text()\nsubmit_button = widgets.Button(description=\"Compute groebner basis\")\n\ndef compute_basis_of_vars(button):\n    kernel = get_ipython().kernel\n    global vars, polys\n    RunSingularCommand( \"ring r = 0,(\" + vars.value + \"),dp;\" )\n    RunSingularCommand(\"ideal I = ( \" + polys.value + \" );\")\n    output = RunSingularCommand( \"std(I);\" )[1]\n    stream_content = { 'wait': False }\n    kernel.send_response( kernel.iopub_socket, 'clear_output', stream_content )\n    stream_content = { 'data': { 'text/plain' : \"Groebner basis is:\\n\" + output } }\n    kernel.send_response( kernel.iopub_socket, 'display_data', stream_content )\n\n    \nsubmit_button.on_click(compute_basis_of_vars)\n\ndisplay(header_vars,vars,header_polys,polys,submit_button)"
       },
       "cell_index": 1,
       "root": true
      }
     ]
    },
    "fc54a96eb1b84482b189030b9fb719f3": {
     "views": []
    },
    "fd2fff555bb94534a7b4246c97bc2518": {
     "views": [
      {
       "cell": {
        "cell_type": "code",
        "execution_count": 6,
        "metadata": {
         "collapsed": false,
         "trusted": true
        },
        "outputs": [
         {
          "data": {
           "text/plain": "Groebner basis is:\n_[1]=a\n_[2]=y\n_[3]=x2\n"
          },
          "metadata": {},
          "output_type": "display_data"
         }
        ],
        "source": "@python\nfrom __future__ import print_function\nfrom ipywidgets import interact, interactive, fixed\nimport ipywidgets as widgets\nfrom IPython.display import display, clear_output\nheader_vars = widgets.Label(\"Enter variables:\")\nvars = widgets.Text()\nheader_polys = widgets.Label(\"Enter polynomials:\")\npolys = widgets.Text()\nsubmit_button = widgets.Button(description=\"Compute groebner basis\")\n\ndef compute_basis_of_vars(button):\n    kernel = get_ipython().kernel\n    global vars, polys\n    RunSingularCommand( \"ring r = 0,(\" + vars.value + \"),dp;\" )\n    RunSingularCommand(\"ideal I = ( \" + polys.value + \" );\")\n    output = RunSingularCommand( \"std(I);\" )[1]\n    stream_content = { 'wait': False }\n    kernel.send_response( kernel.iopub_socket, 'clear_output', stream_content )\n    stream_content = { 'data': { 'text/plain' : \"Groebner basis is:\\n\" + output } }\n    kernel.send_response( kernel.iopub_socket, 'display_data', stream_content )\n\n    \nsubmit_button.on_click(compute_basis_of_vars)\n\ndisplay(header_vars,vars,header_polys,polys,submit_button)"
       },
       "cell_index": 1,
       "root": true
      }
     ]
    },
    "ffebc47e7e54446c9f1b595b98513321": {
     "views": []
    }
   },
   "version": "1.0.0"
  }
 },
 "nbformat": 4,
 "nbformat_minor": 0
}
