{
 "cells": [
  {
   "cell_type": "code",
   "execution_count": 1,
   "metadata": {
    "collapsed": false
   },
   "outputs": [],
   "source": [
    "ring r;"
   ]
  },
  {
   "cell_type": "code",
   "execution_count": 2,
   "metadata": {
    "collapsed": false
   },
   "outputs": [],
   "source": [
    "@python\n",
    "from __future__ import print_function\n",
    "from ipywidgets import interact, interactive, fixed\n",
    "import ipywidgets as widgets\n",
    "from IPython.display import display, clear_output\n",
    "header_vars = widgets.Label(\"Enter variables:\")\n",
    "vars = widgets.Text()\n",
    "header_polys = widgets.Label(\"Enter polynomials:\")\n",
    "polys = widgets.Text()\n",
    "def change_ring(vars):\n",
    "    kernel = get_ipython().kernel\n",
    "    RunSingularCommand( \"ring r = 0,(\" + vars.value + \"),dp;\" )\n",
    "\n",
    "vars.on_submit(change_ring)\n",
    "\n",
    "def compute_basis(polys):\n",
    "    kernel = get_ipython().kernel\n",
    "    RunSingularCommand(\"ideal I = ( \" + polys.value + \" );\")\n",
    "    output = RunSingularCommand( \"std(I);\" )[1]\n",
    "    stream_content = { 'wait': False }\n",
    "    kernel.send_response( kernel.iopub_socket, 'clear_output', stream_content )\n",
    "    stream_content = { 'data': { 'text/plain' : \"Groebner basis is:\\n\" + output } }\n",
    "    kernel.send_response( kernel.iopub_socket, 'display_data', stream_content )\n",
    "\n",
    "polys.on_submit(compute_basis)\n",
    "display(header_vars,vars,header_polys,polys)"
   ]
  },
  {
   "cell_type": "code",
   "execution_count": 8,
   "metadata": {
    "collapsed": false
   },
   "outputs": [],
   "source": []
  },
  {
   "cell_type": "code",
   "execution_count": 9,
   "metadata": {
    "collapsed": false
   },
   "outputs": [
    {
     "data": {
      "text/plain": [
       "_[1]=x\n"
      ]
     },
     "execution_count": 9,
     "metadata": {},
     "output_type": "execute_result"
    }
   ],
   "source": []
  },
  {
   "cell_type": "code",
   "execution_count": null,
   "metadata": {
    "collapsed": true
   },
   "outputs": [],
   "source": []
  }
 ],
 "metadata": {
  "kernelspec": {
   "display_name": "Singular",
   "language": "singular",
   "name": "singular"
  },
  "language_info": {
   "codemirror_mode": "singular",
   "file_extension": ".singular",
   "mimetype": "text/x-singular",
   "name": "Singular"
  },
  "widgets": {
   "state": {
    "0cf37723490144d1a13342ccb25d7e83": {
     "views": [
      {
       "cell": {
        "cell_type": "code",
        "execution_count": 2,
        "metadata": {
         "collapsed": false,
         "trusted": true
        },
        "outputs": [],
        "source": "@python\nfrom __future__ import print_function\nfrom ipywidgets import interact, interactive, fixed\nimport ipywidgets as widgets\nfrom IPython.display import display, clear_output\nheader_vars = widgets.Label(\"Enter variables:\")\nvars = widgets.Text()\nheader_polys = widgets.Label(\"Enter polynomials:\")\npolys = widgets.Text()\ndef change_ring(vars):\n    kernel = get_ipython().kernel\n    RunSingularCommand( \"ring r = 0,(\" + vars.value + \"),dp;\" )\n\nvars.on_submit(change_ring)\n\ndef compute_basis(polys):\n    kernel = get_ipython().kernel\n    RunSingularCommand(\"ideal I = ( \" + polys.value + \" );\")\n    output = RunSingularCommand( \"std(I);\" )[1]\n    stream_content = { 'wait': False }\n    kernel.send_response( kernel.iopub_socket, 'clear_output', stream_content )\n    stream_content = { 'data': { 'text/plain' : \"Groebner basis is:\\n\" + output } }\n    kernel.send_response( kernel.iopub_socket, 'display_data', stream_content )\n\npolys.on_submit(compute_basis)\ndisplay(header_vars,vars,header_polys,polys)"
       },
       "cell_index": 1,
       "root": true
      }
     ]
    },
    "1cb7be695258417fbf1fcd61b0fc5682": {
     "views": []
    },
    "3c80815f39e64e3da8c0c4994917e35e": {
     "views": [
      {
       "cell": {
        "cell_type": "code",
        "execution_count": 2,
        "metadata": {
         "collapsed": false,
         "trusted": true
        },
        "outputs": [],
        "source": "@python\nfrom __future__ import print_function\nfrom ipywidgets import interact, interactive, fixed\nimport ipywidgets as widgets\nfrom IPython.display import display, clear_output\nheader_vars = widgets.Label(\"Enter variables:\")\nvars = widgets.Text()\nheader_polys = widgets.Label(\"Enter polynomials:\")\npolys = widgets.Text()\ndef change_ring(vars):\n    kernel = get_ipython().kernel\n    RunSingularCommand( \"ring r = 0,(\" + vars.value + \"),dp;\" )\n\nvars.on_submit(change_ring)\n\ndef compute_basis(polys):\n    kernel = get_ipython().kernel\n    RunSingularCommand(\"ideal I = ( \" + polys.value + \" );\")\n    output = RunSingularCommand( \"std(I);\" )[1]\n    stream_content = { 'wait': False }\n    kernel.send_response( kernel.iopub_socket, 'clear_output', stream_content )\n    stream_content = { 'data': { 'text/plain' : \"Groebner basis is:\\n\" + output } }\n    kernel.send_response( kernel.iopub_socket, 'display_data', stream_content )\n\npolys.on_submit(compute_basis)\ndisplay(header_vars,vars,header_polys,polys)"
       },
       "cell_index": 1,
       "root": true
      }
     ]
    },
    "67a1de69b3d84fbcac9f3213a8c07283": {
     "views": []
    },
    "9c6c5fd751254898a216cd1dda5cfaee": {
     "views": []
    },
    "bc4d7ffe5d464d0c984fb632ab15a620": {
     "views": [
      {
       "cell": {
        "cell_type": "code",
        "execution_count": 2,
        "metadata": {
         "collapsed": false,
         "trusted": true
        },
        "outputs": [],
        "source": "@python\nfrom __future__ import print_function\nfrom ipywidgets import interact, interactive, fixed\nimport ipywidgets as widgets\nfrom IPython.display import display, clear_output\nheader_vars = widgets.Label(\"Enter variables:\")\nvars = widgets.Text()\nheader_polys = widgets.Label(\"Enter polynomials:\")\npolys = widgets.Text()\ndef change_ring(vars):\n    kernel = get_ipython().kernel\n    RunSingularCommand( \"ring r = 0,(\" + vars.value + \"),dp;\" )\n\nvars.on_submit(change_ring)\n\ndef compute_basis(polys):\n    kernel = get_ipython().kernel\n    RunSingularCommand(\"ideal I = ( \" + polys.value + \" );\")\n    output = RunSingularCommand( \"std(I);\" )[1]\n    stream_content = { 'wait': False }\n    kernel.send_response( kernel.iopub_socket, 'clear_output', stream_content )\n    stream_content = { 'data': { 'text/plain' : \"Groebner basis is:\\n\" + output } }\n    kernel.send_response( kernel.iopub_socket, 'display_data', stream_content )\n\npolys.on_submit(compute_basis)\ndisplay(header_vars,vars,header_polys,polys)"
       },
       "cell_index": 1,
       "root": true
      }
     ]
    },
    "d0538fcb292842579a87c2332a977cf4": {
     "views": []
    },
    "efe97fd9a59548e2afbdc6c28ebe71df": {
     "views": [
      {
       "cell": {
        "cell_type": "code",
        "execution_count": 2,
        "metadata": {
         "collapsed": false,
         "trusted": true
        },
        "outputs": [],
        "source": "@python\nfrom __future__ import print_function\nfrom ipywidgets import interact, interactive, fixed\nimport ipywidgets as widgets\nfrom IPython.display import display, clear_output\nheader_vars = widgets.Label(\"Enter variables:\")\nvars = widgets.Text()\nheader_polys = widgets.Label(\"Enter polynomials:\")\npolys = widgets.Text()\ndef change_ring(vars):\n    kernel = get_ipython().kernel\n    RunSingularCommand( \"ring r = 0,(\" + vars.value + \"),dp;\" )\n\nvars.on_submit(change_ring)\n\ndef compute_basis(polys):\n    kernel = get_ipython().kernel\n    RunSingularCommand(\"ideal I = ( \" + polys.value + \" );\")\n    output = RunSingularCommand( \"std(I);\" )[1]\n    stream_content = { 'wait': False }\n    kernel.send_response( kernel.iopub_socket, 'clear_output', stream_content )\n    stream_content = { 'data': { 'text/plain' : \"Groebner basis is:\\n\" + output } }\n    kernel.send_response( kernel.iopub_socket, 'display_data', stream_content )\n\npolys.on_submit(compute_basis)\ndisplay(header_vars,vars,header_polys,polys)"
       },
       "cell_index": 1,
       "root": true
      }
     ]
    }
   },
   "version": "1.0.0"
  }
 },
 "nbformat": 4,
 "nbformat_minor": 0
}
